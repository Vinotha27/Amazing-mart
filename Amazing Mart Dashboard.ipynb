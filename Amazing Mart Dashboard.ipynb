{
 "cells": [
  {
   "cell_type": "code",
   "execution_count": 37,
   "id": "92417fd3",
   "metadata": {},
   "outputs": [
    {
     "data": {
      "text/html": [
       "<div>\n",
       "<style scoped>\n",
       "    .dataframe tbody tr th:only-of-type {\n",
       "        vertical-align: middle;\n",
       "    }\n",
       "\n",
       "    .dataframe tbody tr th {\n",
       "        vertical-align: top;\n",
       "    }\n",
       "\n",
       "    .dataframe thead th {\n",
       "        text-align: right;\n",
       "    }\n",
       "</style>\n",
       "<table border=\"1\" class=\"dataframe\">\n",
       "  <thead>\n",
       "    <tr style=\"text-align: right;\">\n",
       "      <th></th>\n",
       "      <th>Order ID</th>\n",
       "      <th>Order Date</th>\n",
       "      <th>Customer Name</th>\n",
       "      <th>City</th>\n",
       "      <th>Country</th>\n",
       "      <th>Region</th>\n",
       "      <th>Segment</th>\n",
       "      <th>Ship Date</th>\n",
       "      <th>Ship Mode</th>\n",
       "      <th>State</th>\n",
       "    </tr>\n",
       "  </thead>\n",
       "  <tbody>\n",
       "    <tr>\n",
       "      <th>0</th>\n",
       "      <td>BN-2011-7407039</td>\n",
       "      <td>2011-01-01</td>\n",
       "      <td>Ruby Patel</td>\n",
       "      <td>Stockholm</td>\n",
       "      <td>Sweden</td>\n",
       "      <td>North</td>\n",
       "      <td>Home Office</td>\n",
       "      <td>2011-01-05</td>\n",
       "      <td>Economy Plus</td>\n",
       "      <td>Stockholm</td>\n",
       "    </tr>\n",
       "    <tr>\n",
       "      <th>1</th>\n",
       "      <td>AZ-2011-9050313</td>\n",
       "      <td>2011-01-03</td>\n",
       "      <td>Summer Hayward</td>\n",
       "      <td>Southport</td>\n",
       "      <td>United Kingdom</td>\n",
       "      <td>North</td>\n",
       "      <td>Consumer</td>\n",
       "      <td>2011-01-07</td>\n",
       "      <td>Economy</td>\n",
       "      <td>England</td>\n",
       "    </tr>\n",
       "    <tr>\n",
       "      <th>2</th>\n",
       "      <td>AZ-2011-6674300</td>\n",
       "      <td>2011-01-04</td>\n",
       "      <td>Devin Huddleston</td>\n",
       "      <td>Valence</td>\n",
       "      <td>France</td>\n",
       "      <td>Central</td>\n",
       "      <td>Consumer</td>\n",
       "      <td>2011-01-08</td>\n",
       "      <td>Economy</td>\n",
       "      <td>Auvergne-Rhône-Alpes</td>\n",
       "    </tr>\n",
       "    <tr>\n",
       "      <th>3</th>\n",
       "      <td>BN-2011-2819714</td>\n",
       "      <td>2011-01-04</td>\n",
       "      <td>Mary Parker</td>\n",
       "      <td>Birmingham</td>\n",
       "      <td>United Kingdom</td>\n",
       "      <td>North</td>\n",
       "      <td>Corporate</td>\n",
       "      <td>2011-01-09</td>\n",
       "      <td>Economy</td>\n",
       "      <td>England</td>\n",
       "    </tr>\n",
       "    <tr>\n",
       "      <th>4</th>\n",
       "      <td>AZ-2011-617423</td>\n",
       "      <td>2011-01-05</td>\n",
       "      <td>Daniel Burke</td>\n",
       "      <td>Echirolles</td>\n",
       "      <td>France</td>\n",
       "      <td>Central</td>\n",
       "      <td>Home Office</td>\n",
       "      <td>2011-01-07</td>\n",
       "      <td>Priority</td>\n",
       "      <td>Auvergne-Rhône-Alpes</td>\n",
       "    </tr>\n",
       "    <tr>\n",
       "      <th>...</th>\n",
       "      <td>...</td>\n",
       "      <td>...</td>\n",
       "      <td>...</td>\n",
       "      <td>...</td>\n",
       "      <td>...</td>\n",
       "      <td>...</td>\n",
       "      <td>...</td>\n",
       "      <td>...</td>\n",
       "      <td>...</td>\n",
       "      <td>...</td>\n",
       "    </tr>\n",
       "    <tr>\n",
       "      <th>4112</th>\n",
       "      <td>AZ-2014-8174835</td>\n",
       "      <td>2014-12-31</td>\n",
       "      <td>Eloise Sykes</td>\n",
       "      <td>Bielefeld</td>\n",
       "      <td>Germany</td>\n",
       "      <td>Central</td>\n",
       "      <td>Consumer</td>\n",
       "      <td>2015-01-04</td>\n",
       "      <td>Economy</td>\n",
       "      <td>North Rhine-Westphalia</td>\n",
       "    </tr>\n",
       "    <tr>\n",
       "      <th>4113</th>\n",
       "      <td>AZ-2014-766953</td>\n",
       "      <td>2014-12-31</td>\n",
       "      <td>Jose Gambino</td>\n",
       "      <td>Maidenhead</td>\n",
       "      <td>United Kingdom</td>\n",
       "      <td>North</td>\n",
       "      <td>Corporate</td>\n",
       "      <td>2015-01-05</td>\n",
       "      <td>Economy</td>\n",
       "      <td>England</td>\n",
       "    </tr>\n",
       "    <tr>\n",
       "      <th>4114</th>\n",
       "      <td>AZ-2014-1412225</td>\n",
       "      <td>2014-12-31</td>\n",
       "      <td>Leon Barnes</td>\n",
       "      <td>Worcester</td>\n",
       "      <td>United Kingdom</td>\n",
       "      <td>North</td>\n",
       "      <td>Consumer</td>\n",
       "      <td>2015-01-01</td>\n",
       "      <td>Priority</td>\n",
       "      <td>England</td>\n",
       "    </tr>\n",
       "    <tr>\n",
       "      <th>4115</th>\n",
       "      <td>AZ-2014-7604524</td>\n",
       "      <td>2014-12-31</td>\n",
       "      <td>Rebecca Chamberlain</td>\n",
       "      <td>Hamburg</td>\n",
       "      <td>Germany</td>\n",
       "      <td>Central</td>\n",
       "      <td>Home Office</td>\n",
       "      <td>2015-01-04</td>\n",
       "      <td>Economy</td>\n",
       "      <td>Hamburg</td>\n",
       "    </tr>\n",
       "    <tr>\n",
       "      <th>4116</th>\n",
       "      <td>BN-2014-4140795</td>\n",
       "      <td>2014-12-31</td>\n",
       "      <td>Daniel Hamilton</td>\n",
       "      <td>Eindhoven</td>\n",
       "      <td>Netherlands</td>\n",
       "      <td>Central</td>\n",
       "      <td>Home Office</td>\n",
       "      <td>2015-01-05</td>\n",
       "      <td>Economy Plus</td>\n",
       "      <td>North Brabant</td>\n",
       "    </tr>\n",
       "  </tbody>\n",
       "</table>\n",
       "<p>4117 rows × 10 columns</p>\n",
       "</div>"
      ],
      "text/plain": [
       "             Order ID Order Date        Customer Name        City  \\\n",
       "0     BN-2011-7407039 2011-01-01           Ruby Patel   Stockholm   \n",
       "1     AZ-2011-9050313 2011-01-03       Summer Hayward   Southport   \n",
       "2     AZ-2011-6674300 2011-01-04     Devin Huddleston     Valence   \n",
       "3     BN-2011-2819714 2011-01-04          Mary Parker  Birmingham   \n",
       "4      AZ-2011-617423 2011-01-05         Daniel Burke  Echirolles   \n",
       "...               ...        ...                  ...         ...   \n",
       "4112  AZ-2014-8174835 2014-12-31         Eloise Sykes   Bielefeld   \n",
       "4113   AZ-2014-766953 2014-12-31         Jose Gambino  Maidenhead   \n",
       "4114  AZ-2014-1412225 2014-12-31          Leon Barnes   Worcester   \n",
       "4115  AZ-2014-7604524 2014-12-31  Rebecca Chamberlain     Hamburg   \n",
       "4116  BN-2014-4140795 2014-12-31      Daniel Hamilton   Eindhoven   \n",
       "\n",
       "             Country   Region      Segment  Ship Date     Ship Mode  \\\n",
       "0             Sweden    North  Home Office 2011-01-05  Economy Plus   \n",
       "1     United Kingdom    North     Consumer 2011-01-07       Economy   \n",
       "2             France  Central     Consumer 2011-01-08       Economy   \n",
       "3     United Kingdom    North    Corporate 2011-01-09       Economy   \n",
       "4             France  Central  Home Office 2011-01-07      Priority   \n",
       "...              ...      ...          ...        ...           ...   \n",
       "4112         Germany  Central     Consumer 2015-01-04       Economy   \n",
       "4113  United Kingdom    North    Corporate 2015-01-05       Economy   \n",
       "4114  United Kingdom    North     Consumer 2015-01-01      Priority   \n",
       "4115         Germany  Central  Home Office 2015-01-04       Economy   \n",
       "4116     Netherlands  Central  Home Office 2015-01-05  Economy Plus   \n",
       "\n",
       "                       State  \n",
       "0                  Stockholm  \n",
       "1                    England  \n",
       "2       Auvergne-Rhône-Alpes  \n",
       "3                    England  \n",
       "4       Auvergne-Rhône-Alpes  \n",
       "...                      ...  \n",
       "4112  North Rhine-Westphalia  \n",
       "4113                 England  \n",
       "4114                 England  \n",
       "4115                 Hamburg  \n",
       "4116           North Brabant  \n",
       "\n",
       "[4117 rows x 10 columns]"
      ]
     },
     "execution_count": 37,
     "metadata": {},
     "output_type": "execute_result"
    }
   ],
   "source": [
    "import pandas as pd\n",
    "import matplotlib.pyplot as plt\n",
    "df=pd.read_excel('Amazing Mart.xlsx')\n",
    "df"
   ]
  },
  {
   "cell_type": "code",
   "execution_count": 3,
   "id": "bcb382e8",
   "metadata": {},
   "outputs": [
    {
     "data": {
      "image/png": "[encoded data removed]",
      "text/plain": [
       "<Figure size 432x288 with 1 Axes>"
      ]
     },
     "metadata": {
      "needs_background": "light"
     },
     "output_type": "display_data"
    }
   ],
   "source": [
    "#Count Of Orders Based On Country\n",
    "df0=df[['Country','Order ID']]\n",
    "df3=df0.groupby(by='Country').count()['Order ID'].sort_values(ascending=False)\n",
    "df1=df3.head(5)\n",
    "ax = df1.plot.bar(rot=0)\n",
    "plt.title(\"Count Of Orders Based On Country\")\n",
    "# naming the x axis\n",
    "plt.xlabel('Country')\n",
    "# naming the y axis\n",
    "plt.ylabel('Distinct-Order_ID')\n",
    "# function to show the plot\n",
    "plt.show()"
   ]
  },
  {
   "cell_type": "code",
   "execution_count": 4,
   "id": "65e0d867",
   "metadata": {},
   "outputs": [
    {
     "data": {
      "image/png": "[encoded data removed]",
      "text/plain": [
       "<Figure size 432x288 with 1 Axes>"
      ]
     },
     "metadata": {
      "needs_background": "light"
     },
     "output_type": "display_data"
    }
   ],
   "source": [
    "#Count Of Orders Based On Region\n",
    "df0=df[['Region','Order ID']]\n",
    "df3=df0.groupby(by='Region').count()['Order ID'].sort_values(ascending=False)\n",
    "df1=df3.head(10)\n",
    "ax = df1.plot.bar(rot=0)\n",
    "plt.title(\"Count Of Orders Based On Region\")\n",
    "# naming the y axis\n",
    "plt.ylabel('Distinct-Order_ID')\n",
    "plt.xlabel('Region')\n",
    "# function to show the plot\n",
    "plt.show()"
   ]
  },
  {
   "cell_type": "code",
   "execution_count": 5,
   "id": "3b6da43e",
   "metadata": {},
   "outputs": [
    {
     "data": {
      "image/png": "[encoded data removed]",
      "text/plain": [
       "<Figure size 432x288 with 1 Axes>"
      ]
     },
     "metadata": {
      "needs_background": "light"
     },
     "output_type": "display_data"
    }
   ],
   "source": [
    "#Count Of Orders Based On State\n",
    "df0=df[['State','Order ID']]\n",
    "df3=df0.groupby(by='State').count()['Order ID'].sort_values(ascending=False)\n",
    "df1=df3.head(5)\n",
    "ax = df1.plot.bar(rot=0)\n",
    "plt.title(\"Count Of Orders Based On State\")\n",
    "plt.xlabel('State')\n",
    "plt.ylabel('Distinct-Order_ID')\n",
    "plt.show()"
   ]
  },
  {
   "cell_type": "code",
   "execution_count": 6,
   "id": "a555b7e6",
   "metadata": {},
   "outputs": [
    {
     "data": {
      "image/png": "[encoded data removed]",
      "text/plain": [
       "<Figure size 432x288 with 1 Axes>"
      ]
     },
     "metadata": {
      "needs_background": "light"
     },
     "output_type": "display_data"
    }
   ],
   "source": [
    "#Count Of Orders Based On Segment\n",
    "df0=df[['Segment','Order ID']]\n",
    "df3=df0.groupby(by='Segment').count()['Order ID'].sort_values(ascending=False)\n",
    "df1=df3.head(10)\n",
    "ax = df1.plot.bar(rot=0)\n",
    "plt.title(\"Count Of Orders Based On Region\")\n",
    "plt.xlabel('Segment')\n",
    "plt.ylabel('Distinct-Order_ID')\n",
    "plt.show()"
   ]
  },
  {
   "cell_type": "code",
   "execution_count": 7,
   "id": "0ad0651a",
   "metadata": {},
   "outputs": [
    {
     "data": {
      "image/png": "[encoded data removed]",
      "text/plain": [
       "<Figure size 432x288 with 1 Axes>"
      ]
     },
     "metadata": {
      "needs_background": "light"
     },
     "output_type": "display_data"
    }
   ],
   "source": [
    "#Count Of Orders Based On City\n",
    "df0=df[['City','Order ID']]\n",
    "df3=df0.groupby(by='City').count()['Order ID'].sort_values(ascending=False)\n",
    "df1=df3.head(5)\n",
    "ax = df1.plot.bar(rot=0)\n",
    "plt.title(\"Count Of Orders Based On City\")\n",
    "plt.xlabel('City')\n",
    "plt.ylabel('Distinct-Order_ID')\n",
    "plt.show()"
   ]
  },
  {
   "cell_type": "code",
   "execution_count": 8,
   "id": "06bcc3cd",
   "metadata": {},
   "outputs": [
    {
     "data": {
      "image/png": "[encoded data removed]",
      "text/plain": [
       "<Figure size 432x288 with 1 Axes>"
      ]
     },
     "metadata": {
      "needs_background": "light"
     },
     "output_type": "display_data"
    }
   ],
   "source": [
    "#Count Of Orders Based On Ship Mode\n",
    "df0=df[['Ship Mode','Order ID']]\n",
    "df3=df0.groupby(by='Ship Mode').count()['Order ID'].sort_values(ascending=False)\n",
    "df1=df3.head(5)\n",
    "ax = df1.plot.bar(rot=0)\n",
    "plt.title(\"Count Of Orders Based On Ship Mode\")\n",
    "plt.xlabel('Ship Mode')\n",
    "plt.ylabel('Distinct-Order_ID')\n",
    "plt.show()"
   ]
  },
  {
   "cell_type": "code",
   "execution_count": 9,
   "id": "d5a7e846",
   "metadata": {},
   "outputs": [
    {
     "data": {
      "image/png": "[encoded data removed]",
      "text/plain": [
       "<Figure size 432x288 with 1 Axes>"
      ]
     },
     "metadata": {
      "needs_background": "light"
     },
     "output_type": "display_data"
    }
   ],
   "source": [
    "#Count Of Orders Based On Order Month\n",
    "import numpy as np\n",
    "df['month_full'] = pd.to_datetime(df['Order Date'], format='%m').dt.month_name()\n",
    "df7=df[['month_full','Order ID']]\n",
    "df11=df7.groupby(by='month_full').count()['Order ID'].sort_values(ascending=False)\n",
    "df12=df11.head(10)\n",
    "ax = df12.plot.barh(rot=0)\n",
    "plt.title(\"Count Of Orders Based On Month\")\n",
    "plt.xlabel('Month')\n",
    "plt.ylabel('Distinct-Order_ID')\n",
    "plt.show()"
   ]
  },
  {
   "cell_type": "code",
   "execution_count": 10,
   "id": "aef0cd83",
   "metadata": {},
   "outputs": [
    {
     "data": {
      "image/png": "[encoded data removed]",
      "text/plain": [
       "<Figure size 432x288 with 1 Axes>"
      ]
     },
     "metadata": {
      "needs_background": "light"
     },
     "output_type": "display_data"
    }
   ],
   "source": [
    "#Count Of Orders Based On Order Year\n",
    "df['Year'] = pd.DatetimeIndex(df['Order Date']).year\n",
    "df7=df[['Year','Order ID']]\n",
    "df11=df7.groupby(by='Year').count()['Order ID'].sort_values(ascending=False)\n",
    "df12=df11.head(10)\n",
    "ax = df12.plot.bar(rot=0)\n",
    "plt.title(\"Count Of Orders Based On Year\")\n",
    "plt.xlabel('Year')\n",
    "plt.ylabel('Distinct-Order_ID')\n",
    "plt.show()"
   ]
  },
  {
   "cell_type": "code",
   "execution_count": 11,
   "id": "9fc88d52",
   "metadata": {},
   "outputs": [
    {
     "data": {
      "image/png": "[encoded data removed]",
      "text/plain": [
       "<Figure size 432x288 with 1 Axes>"
      ]
     },
     "metadata": {
      "needs_background": "light"
     },
     "output_type": "display_data"
    }
   ],
   "source": [
    "#Count Of Orders Based On Shipping Month\n",
    "df['Ship_Month'] = pd.to_datetime(df['Ship Date'], format='%m').dt.month_name()\n",
    "df7=df[['Ship_Month','Order ID']]\n",
    "df11=df7.groupby(by='Ship_Month').count()['Order ID'].sort_values(ascending=False)\n",
    "df12=df11.head(5)\n",
    "ax = df12.plot.bar(rot=0)\n",
    "plt.title(\"Count Of Orders Based On Shipping_Month\")\n",
    "plt.xlabel('Shipping_Month')\n",
    "plt.ylabel('Distinct-Order_ID')\n",
    "plt.show()\n"
   ]
  },
  {
   "cell_type": "code",
   "execution_count": 12,
   "id": "65530a2b",
   "metadata": {},
   "outputs": [
    {
     "data": {
      "image/png": "[encoded data removed]",
      "text/plain": [
       "<Figure size 432x288 with 1 Axes>"
      ]
     },
     "metadata": {
      "needs_background": "light"
     },
     "output_type": "display_data"
    }
   ],
   "source": [
    "#Count Of Orders Based On Shipping Year\n",
    "df['Ship_Year'] = pd.DatetimeIndex(df['Ship Date']).year\n",
    "df7=df[['Ship_Year','Order ID']]\n",
    "df11=df7.groupby(by='Ship_Year').count()['Order ID'].sort_values(ascending=False)\n",
    "df12=df11.head(5)\n",
    "ax = df12.plot.bar(rot=0)\n",
    "plt.title(\"Count Of Orders Based On Shipping_Year\")\n",
    "plt.xlabel('Shipping_Year')\n",
    "plt.ylabel('Distinct-Order_ID')\n",
    "plt.show()"
   ]
  },
  {
   "cell_type": "code",
   "execution_count": 30,
   "id": "fc2d5284",
   "metadata": {},
   "outputs": [
    {
     "data": {
      "text/html": [
       "<div>\n",
       "<style scoped>\n",
       "    .dataframe tbody tr th:only-of-type {\n",
       "        vertical-align: middle;\n",
       "    }\n",
       "\n",
       "    .dataframe tbody tr th {\n",
       "        vertical-align: top;\n",
       "    }\n",
       "\n",
       "    .dataframe thead th {\n",
       "        text-align: right;\n",
       "    }\n",
       "</style>\n",
       "<table border=\"1\" class=\"dataframe\">\n",
       "  <thead>\n",
       "    <tr style=\"text-align: right;\">\n",
       "      <th></th>\n",
       "      <th>Order ID</th>\n",
       "      <th>Product Name</th>\n",
       "      <th>Discount</th>\n",
       "      <th>Sales</th>\n",
       "      <th>Profit</th>\n",
       "      <th>Quantity</th>\n",
       "      <th>Category</th>\n",
       "      <th>Sub-Category</th>\n",
       "    </tr>\n",
       "  </thead>\n",
       "  <tbody>\n",
       "    <tr>\n",
       "      <th>0</th>\n",
       "      <td>BN-2011-7407039</td>\n",
       "      <td>Enermax Note Cards, Premium</td>\n",
       "      <td>0.5</td>\n",
       "      <td>45</td>\n",
       "      <td>-26</td>\n",
       "      <td>3</td>\n",
       "      <td>Office Supplies</td>\n",
       "      <td>Paper</td>\n",
       "    </tr>\n",
       "    <tr>\n",
       "      <th>1</th>\n",
       "      <td>AZ-2011-9050313</td>\n",
       "      <td>Dania Corner Shelving, Traditional</td>\n",
       "      <td>0.0</td>\n",
       "      <td>854</td>\n",
       "      <td>290</td>\n",
       "      <td>7</td>\n",
       "      <td>Furniture</td>\n",
       "      <td>Bookcases</td>\n",
       "    </tr>\n",
       "    <tr>\n",
       "      <th>2</th>\n",
       "      <td>AZ-2011-6674300</td>\n",
       "      <td>Binney &amp; Smith Sketch Pad, Easy-Erase</td>\n",
       "      <td>0.0</td>\n",
       "      <td>140</td>\n",
       "      <td>21</td>\n",
       "      <td>3</td>\n",
       "      <td>Office Supplies</td>\n",
       "      <td>Art</td>\n",
       "    </tr>\n",
       "    <tr>\n",
       "      <th>3</th>\n",
       "      <td>BN-2011-2819714</td>\n",
       "      <td>Boston Markers, Easy-Erase</td>\n",
       "      <td>0.5</td>\n",
       "      <td>27</td>\n",
       "      <td>-22</td>\n",
       "      <td>2</td>\n",
       "      <td>Office Supplies</td>\n",
       "      <td>Art</td>\n",
       "    </tr>\n",
       "    <tr>\n",
       "      <th>4</th>\n",
       "      <td>BN-2011-2819714</td>\n",
       "      <td>Eldon Folders, Single Width</td>\n",
       "      <td>0.5</td>\n",
       "      <td>17</td>\n",
       "      <td>-1</td>\n",
       "      <td>2</td>\n",
       "      <td>Office Supplies</td>\n",
       "      <td>Storage</td>\n",
       "    </tr>\n",
       "    <tr>\n",
       "      <th>...</th>\n",
       "      <td>...</td>\n",
       "      <td>...</td>\n",
       "      <td>...</td>\n",
       "      <td>...</td>\n",
       "      <td>...</td>\n",
       "      <td>...</td>\n",
       "      <td>...</td>\n",
       "      <td>...</td>\n",
       "    </tr>\n",
       "    <tr>\n",
       "      <th>8042</th>\n",
       "      <td>AZ-2014-766953</td>\n",
       "      <td>Ikea Stackable Bookrack, Traditional</td>\n",
       "      <td>0.0</td>\n",
       "      <td>245</td>\n",
       "      <td>91</td>\n",
       "      <td>2</td>\n",
       "      <td>Furniture</td>\n",
       "      <td>Bookcases</td>\n",
       "    </tr>\n",
       "    <tr>\n",
       "      <th>8043</th>\n",
       "      <td>BN-2014-4140795</td>\n",
       "      <td>BIC Pencil Sharpener, Fluorescent</td>\n",
       "      <td>0.5</td>\n",
       "      <td>30</td>\n",
       "      <td>-10</td>\n",
       "      <td>2</td>\n",
       "      <td>Office Supplies</td>\n",
       "      <td>Art</td>\n",
       "    </tr>\n",
       "    <tr>\n",
       "      <th>8044</th>\n",
       "      <td>BN-2014-4140795</td>\n",
       "      <td>Avery Binder Covers, Recycled</td>\n",
       "      <td>0.5</td>\n",
       "      <td>23</td>\n",
       "      <td>-6</td>\n",
       "      <td>4</td>\n",
       "      <td>Office Supplies</td>\n",
       "      <td>Binders</td>\n",
       "    </tr>\n",
       "    <tr>\n",
       "      <th>8045</th>\n",
       "      <td>BN-2014-4140795</td>\n",
       "      <td>StarTech Phone, Red</td>\n",
       "      <td>0.5</td>\n",
       "      <td>108</td>\n",
       "      <td>-19</td>\n",
       "      <td>3</td>\n",
       "      <td>Technology</td>\n",
       "      <td>Machines</td>\n",
       "    </tr>\n",
       "    <tr>\n",
       "      <th>8046</th>\n",
       "      <td>AZ-2014-766953</td>\n",
       "      <td>Motorola Audio Dock, VoIP</td>\n",
       "      <td>0.0</td>\n",
       "      <td>867</td>\n",
       "      <td>251</td>\n",
       "      <td>5</td>\n",
       "      <td>Technology</td>\n",
       "      <td>Phones</td>\n",
       "    </tr>\n",
       "  </tbody>\n",
       "</table>\n",
       "<p>8047 rows × 8 columns</p>\n",
       "</div>"
      ],
      "text/plain": [
       "             Order ID                           Product Name  Discount  Sales  \\\n",
       "0     BN-2011-7407039            Enermax Note Cards, Premium       0.5     45   \n",
       "1     AZ-2011-9050313     Dania Corner Shelving, Traditional       0.0    854   \n",
       "2     AZ-2011-6674300  Binney & Smith Sketch Pad, Easy-Erase       0.0    140   \n",
       "3     BN-2011-2819714             Boston Markers, Easy-Erase       0.5     27   \n",
       "4     BN-2011-2819714            Eldon Folders, Single Width       0.5     17   \n",
       "...               ...                                    ...       ...    ...   \n",
       "8042   AZ-2014-766953   Ikea Stackable Bookrack, Traditional       0.0    245   \n",
       "8043  BN-2014-4140795      BIC Pencil Sharpener, Fluorescent       0.5     30   \n",
       "8044  BN-2014-4140795          Avery Binder Covers, Recycled       0.5     23   \n",
       "8045  BN-2014-4140795                    StarTech Phone, Red       0.5    108   \n",
       "8046   AZ-2014-766953              Motorola Audio Dock, VoIP       0.0    867   \n",
       "\n",
       "      Profit  Quantity         Category Sub-Category  \n",
       "0        -26         3  Office Supplies        Paper  \n",
       "1        290         7        Furniture    Bookcases  \n",
       "2         21         3  Office Supplies          Art  \n",
       "3        -22         2  Office Supplies          Art  \n",
       "4         -1         2  Office Supplies      Storage  \n",
       "...      ...       ...              ...          ...  \n",
       "8042      91         2        Furniture    Bookcases  \n",
       "8043     -10         2  Office Supplies          Art  \n",
       "8044      -6         4  Office Supplies      Binders  \n",
       "8045     -19         3       Technology     Machines  \n",
       "8046     251         5       Technology       Phones  \n",
       "\n",
       "[8047 rows x 8 columns]"
      ]
     },
     "execution_count": 30,
     "metadata": {},
     "output_type": "execute_result"
    }
   ],
   "source": [
    "#Read the OrderBreakdown Sheet from Excel \n",
    "dff=pd.read_excel('Amazing Mart.xlsx','OrderBreakdown')\n",
    "dff"
   ]
  },
  {
   "cell_type": "code",
   "execution_count": 13,
   "id": "fcb3c538",
   "metadata": {},
   "outputs": [
    {
     "ename": "NameError",
     "evalue": "name 'dff' is not defined",
     "output_type": "error",
     "traceback": [
      "\u001b[1;31m---------------------------------------------------------------------------\u001b[0m",
      "\u001b[1;31mNameError\u001b[0m                                 Traceback (most recent call last)",
      "Input \u001b[1;32mIn [13]\u001b[0m, in \u001b[0;36m<cell line: 2>\u001b[1;34m()\u001b[0m\n\u001b[0;32m      1\u001b[0m \u001b[38;5;66;03m#Join the two Tables\u001b[39;00m\n\u001b[1;32m----> 2\u001b[0m join_dfs\u001b[38;5;241m=\u001b[39mdf\u001b[38;5;241m.\u001b[39mmerge(\u001b[43mdff\u001b[49m,left_on\u001b[38;5;241m=\u001b[39m\u001b[38;5;124m'\u001b[39m\u001b[38;5;124mOrder ID\u001b[39m\u001b[38;5;124m'\u001b[39m,right_on\u001b[38;5;241m=\u001b[39m\u001b[38;5;124m'\u001b[39m\u001b[38;5;124mOrder ID\u001b[39m\u001b[38;5;124m'\u001b[39m)\n\u001b[0;32m      3\u001b[0m join_dfs\n",
      "\u001b[1;31mNameError\u001b[0m: name 'dff' is not defined"
     ]
    }
   ],
   "source": [
    "#Join the two Tables\n",
    "join_dfs=df.merge(dff,left_on='Order ID',right_on='Order ID')\n",
    "join_dfs"
   ]
  },
  {
   "cell_type": "code",
   "execution_count": 41,
   "id": "06785fd9",
   "metadata": {},
   "outputs": [
    {
     "data": {
      "image/png": "[encoded data removed]",
      "text/plain": [
       "<Figure size 432x288 with 1 Axes>"
      ]
     },
     "metadata": {
      "needs_background": "light"
     },
     "output_type": "display_data"
    }
   ],
   "source": [
    "#Count of Total sales based on country\n",
    "dft=join_dfs[['Country','Sales']]\n",
    "df3=dft.groupby(by='Country').count()['Sales'].sort_values(ascending=False)\n",
    "df1=df3.head(5)\n",
    "ax = df1.plot.bar(rot=0)\n",
    "plt.title(\"Count Of Total Sales Based On Country\")\n",
    "plt.xlabel('Country')\n",
    "plt.ylabel('Total Sales')\n",
    "plt.show()\n"
   ]
  },
  {
   "cell_type": "code",
   "execution_count": 47,
   "id": "c3089c09",
   "metadata": {},
   "outputs": [
    {
     "data": {
      "image/png": "[encoded data removed]",
      "text/plain": [
       "<Figure size 432x288 with 1 Axes>"
      ]
     },
     "metadata": {
      "needs_background": "light"
     },
     "output_type": "display_data"
    }
   ],
   "source": [
    "#Count of Total sales based on State\n",
    "dft=join_dfs[['State','Sales']]\n",
    "df3=dft.groupby(by='State').count()['Sales'].sort_values(ascending=False)\n",
    "df1=df3.head(5)\n",
    "ax = df1.plot.bar(rot=0)\n",
    "plt.title(\"Count Of Total Sales Based On State\")\n",
    "plt.xlabel('State')\n",
    "plt.ylabel('Total Sales')\n",
    "plt.show()"
   ]
  },
  {
   "cell_type": "code",
   "execution_count": 56,
   "id": "1c2b83c5",
   "metadata": {},
   "outputs": [
    {
     "data": {
      "text/plain": [
       "0      4 days\n",
       "1      4 days\n",
       "2      4 days\n",
       "3      5 days\n",
       "4      2 days\n",
       "        ...  \n",
       "4112   4 days\n",
       "4113   5 days\n",
       "4114   1 days\n",
       "4115   4 days\n",
       "4116   5 days\n",
       "Length: 4117, dtype: timedelta64[ns]"
      ]
     },
     "execution_count": 56,
     "metadata": {},
     "output_type": "execute_result"
    }
   ],
   "source": [
    "#Calculate The interval\n",
    "dfg=df['Dates'] = df['Ship Date']-df['Order Date']\n",
    "dfg\n",
    "\n"
   ]
  },
  {
   "cell_type": "code",
   "execution_count": 12,
   "id": "40a832e1",
   "metadata": {
    "scrolled": true
   },
   "outputs": [
    {
     "data": {
      "image/png": "[encoded data removed]",
      "text/plain": [
       "<Figure size 432x288 with 1 Axes>"
      ]
     },
     "metadata": {
      "needs_background": "light"
     },
     "output_type": "display_data"
    }
   ],
   "source": [
    "#Count Of Orders Based On Segment\n",
    "df0=df[['Segment','Order ID']]\n",
    "df3=df0.groupby(by='Segment').count()['Order ID'].sort_values(ascending=False)\n",
    "df1=df3.head(10)\n",
    "ax = df1.plot.bar(rot=0)\n",
    "plt.title(\"Count Of Orders Based On Region\")\n",
    "plt.xlabel('Segment')\n",
    "plt.ylabel('Distinct-Order_ID')\n",
    "plt.show()"
   ]
  }
 ],
 "metadata": {
  "kernelspec": {
   "display_name": "Python 3 (ipykernel)",
   "language": "python",
   "name": "python3"
  },
  "language_info": {
   "codemirror_mode": {
    "name": "ipython",
    "version": 3
   },
   "file_extension": ".py",
   "mimetype": "text/x-python",
   "name": "python",
   "nbconvert_exporter": "python",
   "pygments_lexer": "ipython3",
   "version": "3.9.12"
  }
 },
 "nbformat": 4,
 "nbformat_minor": 5
}
